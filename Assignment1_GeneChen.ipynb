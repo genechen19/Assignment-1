{
 "cells": [
  {
   "cell_type": "markdown",
   "metadata": {},
   "source": [
    "# Assignment 1 - Gene Chen"
   ]
  },
  {
   "cell_type": "code",
   "execution_count": 36,
   "metadata": {},
   "outputs": [],
   "source": [
    "# Importing libraries\n",
    "import numpy as np\n",
    "import pandas as pd\n",
    "import seaborn as sns\n",
    "import matplotlib.pyplot as plt\n",
    "import sklearn as sk\n",
    "from sklearn import cluster\n",
    "from sklearn import preprocessing\n",
    "from sklearn import metrics\n",
    "from sklearn.decomposition import PCA\n",
    "from sklearn.preprocessing import StandardScaler\n",
    "\n",
    "my_dtype = {\n",
    "    'NPI':object, 'NPPES_PROVIDER_LAST_ORG_NAME':object, 'NPPES_PROVIDER_FIRST_NAME':object,\n",
    "       'NPPES_PROVIDER_MI':object, 'NPPES_CREDENTIALS':object, 'NPPES_PROVIDER_GENDER':object,\n",
    "       'NPPES_ENTITY_CODE':object, 'NPPES_PROVIDER_STREET1':object, 'NPPES_PROVIDER_STREET2':object,\n",
    "       'NPPES_PROVIDER_CITY':object, 'NPPES_PROVIDER_ZIP':object, 'NPPES_PROVIDER_STATE':object,\n",
    "       'NPPES_PROVIDER_COUNTRY':object, 'PROVIDER_TYPE':object,\n",
    "       'MEDICARE_PARTICIPATION_INDICATOR':object, 'PLACE_OF_SERVICE':object, 'HCPCS_CODE':object,\n",
    "       'HCPCS_DESCRIPTION':object, 'HCPCS_DRUG_INDICATOR':object, 'LINE_SRVC_CNT':float,\n",
    "       'BENE_UNIQUE_CNT':float, 'BENE_DAY_SRVC_CNT':float, 'AVERAGE_MEDICARE_ALLOWED_AMT':float,\n",
    "       'AVERAGE_SUBMITTED_CHRG_AMT':float, 'AVERAGE_MEDICARE_PAYMENT_AMT':float,\n",
    "       'AVERAGE_MEDICARE_STANDARD_AMT':float\n",
    "}\n",
    "\n",
    "# Read the medicare data and extract features and labels\n",
    "medicare = pd.read_csv(\"../Medicare_Info/Medicare_Provider_Util_Payment_PUF_CY2016.txt\",delimiter=\"\\t\",dtype=my_dtype)"
   ]
  },
  {
   "cell_type": "markdown",
   "metadata": {},
   "source": [
    "## Data Cleaning"
   ]
  },
  {
   "cell_type": "code",
   "execution_count": 37,
   "metadata": {
    "scrolled": true
   },
   "outputs": [],
   "source": [
    "# Drop first row\n",
    "medicare.drop(0,axis=0,inplace=True)\n",
    "\n",
    "# Due to memory limitations on laptop, taking 10% random samples \n",
    "(m,n) = medicare.shape\n",
    "medicareSub = medicare.iloc[np.random.randint(m, size= int(m*.1)),:]"
   ]
  },
  {
   "cell_type": "code",
   "execution_count": 38,
   "metadata": {
    "collapsed": true
   },
   "outputs": [
    {
     "name": "stderr",
     "output_type": "stream",
     "text": [
      "C:\\Users\\genec\\Anaconda3\\lib\\site-packages\\pandas\\core\\frame.py:3697: SettingWithCopyWarning: \n",
      "A value is trying to be set on a copy of a slice from a DataFrame\n",
      "\n",
      "See the caveats in the documentation: http://pandas.pydata.org/pandas-docs/stable/indexing.html#indexing-view-versus-copy\n",
      "  errors=errors)\n",
      "C:\\Users\\genec\\Anaconda3\\lib\\site-packages\\ipykernel_launcher.py:8: SettingWithCopyWarning: \n",
      "A value is trying to be set on a copy of a slice from a DataFrame\n",
      "\n",
      "See the caveats in the documentation: http://pandas.pydata.org/pandas-docs/stable/indexing.html#indexing-view-versus-copy\n",
      "  \n"
     ]
    }
   ],
   "source": [
    "# Drop features with significant missing data\n",
    "medicareSub.drop(columns=['NPPES_PROVIDER_MI','NPPES_PROVIDER_STREET2'], axis=1, inplace=True)\n",
    "\n",
    "# Drop features with too many unique instance, will be non-conclusive, and/or can be derived from another feature\n",
    "medicareSub.drop(columns=['NPPES_PROVIDER_FIRST_NAME','NPPES_PROVIDER_STREET1','NPPES_PROVIDER_COUNTRY','HCPCS_DESCRIPTION','NPPES_PROVIDER_CITY','NPPES_PROVIDER_LAST_ORG_NAME','NPI','NPPES_PROVIDER_CITY','NPPES_CREDENTIALS','HCPCS_CODE'], axis=1, inplace=True)\n",
    "\n",
    "# Drop all other rows with missing data\n",
    "medicareSub.dropna(axis=0, inplace=True)\n",
    "\n",
    "# Extract Features that correspond to business question: States that provide greatest amount of Beneficiaries\n",
    "medicareSub.drop(columns=['NPPES_ENTITY_CODE','MEDICARE_PARTICIPATION_INDICATOR','PLACE_OF_SERVICE','HCPCS_DRUG_INDICATOR','BENE_DAY_SRVC_CNT','AVERAGE_MEDICARE_ALLOWED_AMT','AVERAGE_SUBMITTED_CHRG_AMT','AVERAGE_MEDICARE_STANDARD_AMT','NPPES_PROVIDER_ZIP','LINE_SRVC_CNT','BENE_UNIQUE_CNT'], axis=1, inplace=True)"
   ]
  },
  {
   "cell_type": "markdown",
   "metadata": {},
   "source": [
    "## Data Exploration"
   ]
  },
  {
   "cell_type": "code",
   "execution_count": 42,
   "metadata": {
    "collapsed": true
   },
   "outputs": [
    {
     "data": {
      "image/png": "[encoded data removed]",
      "text/plain": [
       "<Figure size 576x576 with 1 Axes>"
      ]
     },
     "metadata": {
      "needs_background": "light"
     },
     "output_type": "display_data"
    }
   ],
   "source": [
    "graphs = ['AVERAGE_MEDICARE_PAYMENT_AMT']\n",
    "plt.figure(figsize=(8,8))\n",
    "plt.tight_layout()\n",
    "\n",
    "col = {}\n",
    "for i in range(len(graphs)):\n",
    "    col[i] = medicareSub.loc[:,graphs[i]]\n",
    "    plt.hist(col[i],bins=100,range=(0,col[i].median()+2*col[i].std()))\n",
    "    plt.title(graphs[i])  "
   ]
  },
  {
   "cell_type": "code",
   "execution_count": 43,
   "metadata": {
    "collapsed": true
   },
   "outputs": [
    {
     "name": "stderr",
     "output_type": "stream",
     "text": [
      "C:\\Users\\genec\\Anaconda3\\lib\\site-packages\\ipykernel_launcher.py:6: SettingWithCopyWarning: \n",
      "A value is trying to be set on a copy of a slice from a DataFrame.\n",
      "Try using .loc[row_indexer,col_indexer] = value instead\n",
      "\n",
      "See the caveats in the documentation: http://pandas.pydata.org/pandas-docs/stable/indexing.html#indexing-view-versus-copy\n",
      "  \n",
      "C:\\Users\\genec\\Anaconda3\\lib\\site-packages\\ipykernel_launcher.py:7: SettingWithCopyWarning: \n",
      "A value is trying to be set on a copy of a slice from a DataFrame.\n",
      "Try using .loc[row_indexer,col_indexer] = value instead\n",
      "\n",
      "See the caveats in the documentation: http://pandas.pydata.org/pandas-docs/stable/indexing.html#indexing-view-versus-copy\n",
      "  import sys\n"
     ]
    },
    {
     "data": {
      "image/png": "[encoded data removed]",
      "text/plain": [
       "<Figure size 576x576 with 1 Axes>"
      ]
     },
     "metadata": {
      "needs_background": "light"
     },
     "output_type": "display_data"
    }
   ],
   "source": [
    "# Heavy skew, attempt to transform with log\n",
    "plt.figure(figsize=(8,8))\n",
    "plt.tight_layout()\n",
    "\n",
    "for i in range(len(graphs)):\n",
    "    medicareSub[graphs[i]] = medicareSub[graphs[i]] + (1-medicareSub[graphs[i]].min())\n",
    "    medicareSub[graphs[i]] = np.log(medicareSub[graphs[i]])\n",
    "    plt.hist(medicareSub[graphs[i]],bins=100,range=(medicareSub[graphs[i]].median()-2*medicareSub[graphs[i]].std(),medicareSub[graphs[i]].median()+2*medicareSub[graphs[i]].std()))\n",
    "    plt.title(graphs[i]) "
   ]
  },
  {
   "cell_type": "markdown",
   "metadata": {},
   "source": [
    "## Clustering"
   ]
  },
  {
   "cell_type": "code",
   "execution_count": 48,
   "metadata": {
    "collapsed": true
   },
   "outputs": [
    {
     "name": "stderr",
     "output_type": "stream",
     "text": [
      "C:\\Users\\genec\\Anaconda3\\lib\\site-packages\\pandas\\core\\frame.py:3697: SettingWithCopyWarning: \n",
      "A value is trying to be set on a copy of a slice from a DataFrame\n",
      "\n",
      "See the caveats in the documentation: http://pandas.pydata.org/pandas-docs/stable/indexing.html#indexing-view-versus-copy\n",
      "  errors=errors)\n"
     ]
    }
   ],
   "source": [
    "# Changing categorical features to integer using one hot encoding\n",
    "d1 = pd.get_dummies(medicareSub['NPPES_PROVIDER_STATE'])\n",
    "d2 = pd.get_dummies(medicareSub['PROVIDER_TYPE'])\n",
    "d3 = pd.get_dummies(medicareSub['NPPES_PROVIDER_GENDER'])\n",
    "\n",
    "medicareSub.drop(columns = ['NPPES_PROVIDER_STATE','PROVIDER_TYPE','NPPES_PROVIDER_GENDER'], inplace = True)\n",
    "medicareSub = pd.concat([medicareSub, d1, d2], axis = 1)"
   ]
  },
  {
   "cell_type": "code",
   "execution_count": 49,
   "metadata": {
    "collapsed": true
   },
   "outputs": [
    {
     "name": "stderr",
     "output_type": "stream",
     "text": [
      "C:\\Users\\genec\\Anaconda3\\lib\\site-packages\\ipykernel_launcher.py:3: DataConversionWarning: Data with input dtype uint8, float64 were all converted to float64 by the scale function.\n",
      "  This is separate from the ipykernel package so we can avoid doing imports until\n"
     ]
    }
   ],
   "source": [
    "# Normalizing data\n",
    "medCols = medicareSub.columns\n",
    "medicareSub = preprocessing.scale(medicareSub)\n",
    "medicareSub = pd.DataFrame(medicareSub, columns=medCols)"
   ]
  },
  {
   "cell_type": "code",
   "execution_count": null,
   "metadata": {},
   "outputs": [],
   "source": [
    "# Determine k\n",
    "sse = {}\n",
    "sil = {}\n",
    "for k in range(1, 10):\n",
    "    kmeans = cluster.MiniBatchKMeans(k).fit(medicareSub)\n",
    "    sse[k] = kmeans.inertia_\n",
    "    cluster_labels = kmeans.fit_predict(medicareSubCopy)\n",
    "\n",
    "plt.figure()\n",
    "plt.plot(list(sse.keys()), list(sse.values()))\n",
    "plt.xlabel(\"Number of cluster\")\n",
    "plt.ylabel(\"SSE\")\n",
    "plt.show()"
   ]
  },
  {
   "cell_type": "code",
   "execution_count": 52,
   "metadata": {
    "scrolled": true
   },
   "outputs": [],
   "source": [
    "# Execute kmeans with k = 7\n",
    "kmeans = cluster.MiniBatchKMeans(7,n_init=10).fit(medicareSub)\n",
    "medicareSub['clusters'] = kmeans.labels_"
   ]
  },
  {
   "cell_type": "markdown",
   "metadata": {},
   "source": [
    "## Analysis"
   ]
  },
  {
   "cell_type": "code",
   "execution_count": 57,
   "metadata": {},
   "outputs": [
    {
     "data": {
      "text/plain": [
       "Text(0.5, 1.0, 'Cluster v. Avg Medicare Payment')"
      ]
     },
     "execution_count": 57,
     "metadata": {},
     "output_type": "execute_result"
    },
    {
     "data": {
      "image/png": "[encoded data removed]",
      "text/plain": [
       "<Figure size 576x576 with 1 Axes>"
      ]
     },
     "metadata": {
      "needs_background": "light"
     },
     "output_type": "display_data"
    }
   ],
   "source": [
    "# Determine Cluster with Highest Avg Medicare Payment\n",
    "a = kmeans.cluster_centers_[:,0].max()\n",
    "y = kmeans.cluster_centers_[:,0]\n",
    "x = [0,1,2,3,4,5,6]\n",
    "plt.figure(figsize = (8,8))\n",
    "plt.bar(x,y)\n",
    "plt.xlabel('Cluster No.')\n",
    "plt.ylabel('Standardized Avg Medicare Payment')\n",
    "plt.title('Cluster v. Avg Medicare Payment')"
   ]
  },
  {
   "cell_type": "code",
   "execution_count": 56,
   "metadata": {},
   "outputs": [
    {
     "data": {
      "text/plain": [
       "Text(0.5, 1.0, 'Largest Presence by State in Cluster No. 5')"
      ]
     },
     "execution_count": 56,
     "metadata": {},
     "output_type": "execute_result"
    },
    {
     "data": {
      "image/png": "[encoded data removed]",
      "text/plain": [
       "<Figure size 1440x576 with 1 Axes>"
      ]
     },
     "metadata": {
      "needs_background": "light"
     },
     "output_type": "display_data"
    }
   ],
   "source": [
    "# Determine most affluent state in cluster No. 4\n",
    "medicareSub['clusters'] = kmeans.labels_\n",
    "states = medicareSub.loc[medicareSub['clusters']==5]\n",
    "y = states.iloc[:,1:51].mean()\n",
    "x = states.iloc[:,1:51].columns\n",
    "\n",
    "plt.figure(figsize=(20,8))\n",
    "plt.bar(x,y)\n",
    "plt.xlabel('State')\n",
    "plt.ylabel('Avg Standardized Amt in Cluster = 5')\n",
    "plt.title('Largest Presence by State in Cluster No. 5')"
   ]
  },
  {
   "cell_type": "code",
   "execution_count": null,
   "metadata": {},
   "outputs": [],
   "source": []
  }
 ],
 "metadata": {
  "kernelspec": {
   "display_name": "Python 3",
   "language": "python",
   "name": "python3"
  },
  "language_info": {
   "codemirror_mode": {
    "name": "ipython",
    "version": 3
   },
   "file_extension": ".py",
   "mimetype": "text/x-python",
   "name": "python",
   "nbconvert_exporter": "python",
   "pygments_lexer": "ipython3",
   "version": "3.7.1"
  }
 },
 "nbformat": 4,
 "nbformat_minor": 2
}
